{
 "cells": [
  {
   "cell_type": "markdown",
   "metadata": {},
   "source": [
    "# \"Week 4: Preparation for Coding Period continues\"\n",
    "\n",
    "- toc: false\n",
    "- branch: master\n",
    "- badges: true\n",
    "- comments: true\n",
    "- image: my_icons/GSoC_Logo.jpg\n",
    "- hide: false\n",
    "- search_exclude: true\n",
    "- metadata_key1: metadata_value1\n",
    "- metadata_key2: metadata_value2"
   ]
  },
  {
   "cell_type": "markdown",
   "metadata": {},
   "source": [
    "<span style = \"color: #f5aa42; font-family: Georgia, serif;font-size: 25px\">HAPI FHIR</span>"
   ]
  },
  {
   "cell_type": "markdown",
   "metadata": {},
   "source": [
    "<span style = \"font-family: Times New Roman, Times; font-size: 18px; line-height: 30px;\">\n",
    "   This week, I was focused on expanding my undestanding of the Fast Healthcare Interoperability Resources.I read the documentations about the resources of interest from the <a href =\"http://hl7.org/fhir/documentation.html\">HL7 FHIR release documents </a>. In addtion, I read about the <a href =\"https://hapifhir.io/hapi-fhir/\">HAPI FHIR</a>  which is a java implementation of the FHIR. The figure below shows the different ways of interacting with the HAPI FHIR server.\n",
    " </span>"
   ]
  },
  {
   "attachments": {},
   "cell_type": "markdown",
   "metadata": {},
   "source": [
    "![](my_icons/fhir_hapi.PNG)"
   ]
  },
  {
   "cell_type": "markdown",
   "metadata": {},
   "source": [
    "![](my_icons/medication_wireframe.PNG)"
   ]
  },
  {
   "cell_type": "markdown",
   "metadata": {},
   "source": [
    "<span style =\"font-family: Times New Roman, Times; font-size: 18px; line-height: 30px\">\n",
    "In addition, I also obtained access to the lh-toolkit Gitlab projects.The new components built in the coming months will be integrated to the appropriate lh-toolkit Gitlab projects \n",
    "</span>"
   ]
  },
  {
   "cell_type": "markdown",
   "metadata": {},
   "source": [
    "![](my_icons/medication_parts.PNG)"
   ]
  },
  {
   "cell_type": "markdown",
   "metadata": {},
   "source": [
    "<span style = \"font-family: Times New Roman, Times; font-size:18px; line-height: 30px\">\n",
    "..Coding starts next week!!!\n",
    " </span>"
   ]
  }
 ],
 "metadata": {
  "kernelspec": {
   "display_name": "Python 2",
   "language": "python",
   "name": "python2"
  },
  "language_info": {
   "codemirror_mode": {
    "name": "ipython",
    "version": 2
   },
   "file_extension": ".py",
   "mimetype": "text/x-python",
   "name": "python",
   "nbconvert_exporter": "python",
   "pygments_lexer": "ipython2",
   "version": "2.7.16"
  }
 },
 "nbformat": 4,
 "nbformat_minor": 2
}
