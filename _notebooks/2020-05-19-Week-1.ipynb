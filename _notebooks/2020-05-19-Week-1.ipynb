{
 "cells": [
  {
   "cell_type": "markdown",
   "metadata": {},
   "source": [
    "# \"Week 1: Introduction to GSoC and LibreHealth\"\n",
    "> \"Ths introduces my project \"\n",
    "\n",
    "- toc: false\n",
    "- branch: master\n",
    "- badges: true\n",
    "- comments: true\n",
    "- image: images/some_folder/your_image.png\n",
    "- hide: false\n",
    "- search_exclude: true\n",
    "- metadata_key1: metadata_value1\n",
    "- metadata_key2: metadata_value2"
   ]
  },
  {
   "attachments": {},
   "cell_type": "markdown",
   "metadata": {},
   "source": [
    "![images/SOC_Logo.jpg](attachment:images/SOC_Logo.jpg)"
   ]
  },
  {
   "cell_type": "markdown",
   "metadata": {},
   "source": [
    "# <span style = \"color: #f5aa42; font-family: Georgia, serif; font-size: 35px;\">Project Description</span>"
   ]
  },
  {
   "cell_type": "markdown",
   "metadata": {},
   "source": [
    "\n",
    "<span style = \"font-family: Times New Roman, Times; font-size: 18px; line-height: 30px;\">\n",
    "My proposal to ‘Create web components for FHIR resources’ was accepted for GSoC 2020. I will contribute to the development of\n",
    "the LibreHealth EHR, an open-source EHR maintained by LibreHealth. So here is a brief overview  and motivation for the project.\n",
    "</span>"
   ]
  },
  {
   "cell_type": "markdown",
   "metadata": {},
   "source": [
    "## <span style = \"color: #f5aa42; font-family: Georgia, serif;\">HL7 and Interoperability</span>"
   ]
  },
  {
   "cell_type": "markdown",
   "metadata": {},
   "source": [
    "<span style = \"font-family: Times New Roman, Times; font-size: 18px; line-height: 30px;\">\n",
    "The HL7 has developed several standards of EHR interoperability such as the HL7 V2, V3, Reference Information Model (RIM), and the Clinical Document Architecture (CDA). These standards are widely used in EHR systems. Most recently, the HL7 has developed a new standard called the Fast Healthcare Interoperability Resources (FHIR) based on the RESTful API. FHIR is built on a set of components called Resources, which combines the best features of the CDA, HL7 v2, and HL7 v3. A resource can be used to store and exchange healthcare data over an HTTP endpoint using GET/POST request. This makes data exchange seamless and lightweight compared to other standards.  \n",
    "</span>"
   ]
  },
  {
   "cell_type": "markdown",
   "metadata": {},
   "source": [
    "## <span style = \"color: #f5aa42; font-family: Georgia, serif;\">Project Aim</span>"
   ]
  },
  {
   "cell_type": "markdown",
   "metadata": {},
   "source": [
    "\n",
    "<span style = \"font-family: Times New Roman, Times; font-size: 18px; line-height: 30px;\">\n",
    "In this project, I will develop web components for FHIR resources using the Polymer Library. The Polymer Library can be used to create web components using HTML imports, HTML Template, Shadow DOM, and custom elements. These created web components can be used in numerous EHR systems. Also, the web components are integrated into the LibreHealthToolkit. This project is a continuation of the previous LibrehealthToolkit project from the previous GSoC. The figure below shows the architecture of a typical web component.\n",
    "</span>"
   ]
  }
 ],
 "metadata": {
  "kernelspec": {
   "display_name": "Python 2",
   "language": "python",
   "name": "python2"
  },
  "language_info": {
   "codemirror_mode": {
    "name": "ipython",
    "version": 2
   },
   "file_extension": ".py",
   "mimetype": "text/x-python",
   "name": "python",
   "nbconvert_exporter": "python",
   "pygments_lexer": "ipython2",
   "version": "2.7.16"
  }
 },
 "nbformat": 4,
 "nbformat_minor": 2
}
