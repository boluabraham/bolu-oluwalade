{
 "cells": [
  {
   "cell_type": "markdown",
   "metadata": {},
   "source": [
    "# \"Week 8:Coding Period (Week 4) \"\n",
    "\n",
    "- toc: false\n",
    "- branch: master\n",
    "- badges: true\n",
    "- comments: true\n",
    "- image: my_icons/GSoC_Logo.jpg\n",
    "- hide: false\n",
    "- search_exclude: true\n",
    "- metadata_key1: metadata_value1\n",
    "- metadata_key2: metadata_value2"
   ]
  },
  {
   "cell_type": "markdown",
   "metadata": {},
   "source": [
    "<span style = \"color: #f5aa42; font-family: Georgia, serif;font-size: 25px\">Unit Testing of Custom Elements</span>"
   ]
  },
  {
   "cell_type": "markdown",
   "metadata": {},
   "source": [
    "<span style = \"font-family: Times New Roman, Times; font-size: 18px; line-height: 30px;\">\n",
    "During the past week, one of my major tasks was writing unit tests for 4 components using the web component tester. The web component tester (wct) brings together a series of tools that ensures the process is as seamless as possible. Please check out the documentations <a href = \"https://github.com/Polymer/tools/tree/master/packages/web-component-tester\">here </a>.\n",
    "</span>"
   ]
  },
  {
   "cell_type": "markdown",
   "metadata": {},
   "source": [
    "<span style = \"font-family: Times New Roman, Times; font-size: 18px; line-height: 30px;\">\n",
    "    The tools that came out of the box with WCT includes <i>Mocha</i>, as a testing framework, <i>Chai</i> for assertions, <i>async</i>, <i>lodash</i>, <i>sinon</i> and <i>sinon-chai</i>, <i>text-fixture</i> and <i>allySuite</i>. More information about these is available in the link above. The testing suite can be in javaScript or html.I went with html to maintain the format of the project's monorepo.\n",
    "</span>"
   ]
  },
  {
   "cell_type": "markdown",
   "metadata": {},
   "source": [
    "<span style = \"font-family: Times New Roman, Times; font-size: 18px; line-height: 30px;\">\n",
    "The steps involved in the unit testing are available <a href= \"https://www.polymer-project.org/3.0/docs/tools/tests\">here.</a>\n",
    "Below is the description of the steps involved in the unit testing for observation status custom element. The first step was to create an observation JSON file that contains all the information in an fhir observation resource that can be locally imported. This was important because the hapi server that houses the fhir resources instances is not always available. Next , I created the html file that contains the testing code. The observation status is built with the material web component, \"mwc-select\". There are four options for the observation status including, Regsistered, Preliminary, Final and Amended. In proper functioning, the value for the observation status is determined by the value attribute or url passed to the \"fhir-observation-status\" tag. A snip of the component is shown below.\n",
    "</span>"
   ]
  },
  {
   "attachments": {},
   "cell_type": "markdown",
   "metadata": {},
   "source": [
    "![](my_icons/observation_status_test.PNG)"
   ]
  },
  {
   "cell_type": "markdown",
   "metadata": {},
   "source": [
    "<span style = \"font-family: Times New Roman, Times; font-size: 18px; line-height: 30px;\">\n",
    "To write the unit test, I asserted that the value selected is equal to my assertion value and not equal to a wrong value. I also checked that the AJAX call returns the appropriate response. \n",
    "</span>"
   ]
  },
  {
   "attachments": {},
   "cell_type": "markdown",
   "metadata": {},
   "source": [
    "![](my_icons/observation_status_unit_test_code.PNG)"
   ]
  },
  {
   "cell_type": "markdown",
   "metadata": {},
   "source": [
    "<span style =\"font-family: Times New Roman, Times; font-size: 18px; line-height:30px\">\n",
    "    To start the unit test, a fake server was created using sinon where mock XHR request can me made to recieve an AJAX response. The AJAX response is first tested. This is followed by the teardown() function that cleans up the server after the test. Next, the value for the observation status contained in the observation JSON file was confirmed using the assert functions. The results obtained from the test is presented below\n",
    "</span>"
   ]
  },
  {
   "attachments": {},
   "cell_type": "markdown",
   "metadata": {},
   "source": [
    "![](my_icons/unit_testing_result.PNG)"
   ]
  }
 ],
 "metadata": {
  "kernelspec": {
   "display_name": "Python 2",
   "language": "python",
   "name": "python2"
  },
  "language_info": {
   "codemirror_mode": {
    "name": "ipython",
    "version": 2
   },
   "file_extension": ".py",
   "mimetype": "text/x-python",
   "name": "python",
   "nbconvert_exporter": "python",
   "pygments_lexer": "ipython2",
   "version": "2.7.16"
  }
 },
 "nbformat": 4,
 "nbformat_minor": 2
}
