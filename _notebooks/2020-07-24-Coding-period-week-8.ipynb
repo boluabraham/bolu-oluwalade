{
 "cells": [
  {
   "cell_type": "markdown",
   "metadata": {},
   "source": [
    "# \"Week 12:Coding Period (Week 8) \"\n",
    "\n",
    "- toc: false\n",
    "- branch: master\n",
    "- badges: true\n",
    "- comments: true\n",
    "- image: my_icons/GSoC_Logo.jpg\n",
    "- hide: false\n",
    "- search_exclude: true\n",
    "- metadata_key1: metadata_value1\n",
    "- metadata_key2: metadata_value2"
   ]
  },
  {
   "cell_type": "markdown",
   "metadata": {},
   "source": [
    "<span style = \"color: #f5aa42; font-family: Georgia, serif;font-size: 25px\">Unit tests and documentations</span>"
   ]
  },
  {
   "cell_type": "markdown",
   "metadata": {},
   "source": [
    "<span style = \"font-family: Times New Roman, Times; font-size: 18px; line-height: 30px;\">\n",
    "I was focused on writing unit tests and the README documentations for all the 14 components created for the FHIR Medication and Medication resources created last week.I have documented the procedures for unit testing in a prvious blog that can be accessed <a href =\"https://boluabraham.github.io/bolu-oluwalade/2020/06/26/Coding-period-week-4.html\">here</a>. Below is a snip of the unit test for fhir-medication-batch. All the unit tests for the 14 components passed. I will be making a Merge Requests to the Project's monorepo this weekend.</span>"
   ]
  },
  {
   "attachments": {},
   "cell_type": "markdown",
   "metadata": {},
   "source": [
    "![](my_icons/medication-batch.PNG)"
   ]
  },
  {
   "cell_type": "markdown",
   "metadata": {},
   "source": [
    "<span style = \"font-family: Times New Roman, Times; font-size: 18px; line-height: 30px;\">\n",
    "During this coming week, I plan to integrate all the created components for the Observation, Medication and Medication Resources into the Lh-toolkit App which is a progressive web application. This will be used to create at least three workflows like creating a new medication record, entering a patient's height and weight values, taking observation notes etc.\n",
    "</span>"
   ]
  }
 ],
 "metadata": {
  "kernelspec": {
   "display_name": "Python 3",
   "language": "python",
   "name": "python3"
  },
  "language_info": {
   "codemirror_mode": {
    "name": "ipython",
    "version": 3
   },
   "file_extension": ".py",
   "mimetype": "text/x-python",
   "name": "python",
   "nbconvert_exporter": "python",
   "pygments_lexer": "ipython3",
   "version": "3.7.3"
  }
 },
 "nbformat": 4,
 "nbformat_minor": 2
}
