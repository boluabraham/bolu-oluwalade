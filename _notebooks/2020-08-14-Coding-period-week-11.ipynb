{
 "cells": [
  {
   "cell_type": "markdown",
   "metadata": {},
   "source": [
    "# \"Week 15:Coding Period (Week 11)\"\n",
    "\n",
    "- toc: false\n",
    "- branch: master\n",
    "- badges: true\n",
    "- comments: true\n",
    "- image: my_icons/GSoC_Logo.jpg\n",
    "- hide: false\n",
    "- search_exclude: true\n",
    "- metadata_key1: metadata_value1\n",
    "- metadata_key2: metadata_value2"
   ]
  },
  {
   "cell_type": "markdown",
   "metadata": {},
   "source": [
    "<span style = \"color: #f5aa42; font-family: Georgia, serif;font-size: 25px\">Brief Updates</span>"
   ]
  },
  {
   "cell_type": "markdown",
   "metadata": {},
   "source": [
    "<span style = \"font-family: Times New Roman, Times; font-size: 18px; line-height: 30px;\">\n",
    "This week, I completed the unit testing and documentations for the FHIR Medication Request custom elements. These are the last sets of components to be created based on my GSoC proposal. I will make the Merge Request to the lh-toolkit web components repo once the Medication Statements are approved.</span>"
   ]
  },
  {
   "cell_type": "markdown",
   "metadata": {},
   "source": [
    "<span style = \"font-family: Times New Roman, Times; font-size: 18px; line-height: 30px;\">\n",
    "The Medication Request Resource, covers all the types of medication orders for both inpatient and outpatient use. It contains the instrcutions to patients about the use of a medication such as the dosage, the dispense request, the priority of the request, the request date, the reason for the request, if a substitute can be used etc. I have created components for each of these parts that makes up the whole resource. An example of this is the dispense request component that can be used to get the quantity, duration, validity period of a medication request. The dispense request component was created by creating and bringing together some other components such as <i>fhir-dispenserequest-quantity, fhir-dispenserequest-duration,fhir-dispenserequest-validityperiod and fhir-period</i>.The element is shown below</span>"
   ]
  },
  {
   "cell_type": "markdown",
   "metadata": {},
   "source": [
    "![](dispense_request.PNG)"
   ]
  },
  {
   "cell_type": "markdown",
   "metadata": {},
   "source": [
    "<span style = \"font-family: Times New Roman, Times; font-size: 18px; line-height: 30px;\">\n",
    " The next course of action is to use these components to create the LibreHealth ELectronic Health Record PWA based on the design's team prototype.\n",
    "</span>"
   ]
  }
 ],
 "metadata": {
  "kernelspec": {
   "display_name": "Python 3",
   "language": "python",
   "name": "python3"
  },
  "language_info": {
   "codemirror_mode": {
    "name": "ipython",
    "version": 3
   },
   "file_extension": ".py",
   "mimetype": "text/x-python",
   "name": "python",
   "nbconvert_exporter": "python",
   "pygments_lexer": "ipython3",
   "version": "3.7.3"
  }
 },
 "nbformat": 4,
 "nbformat_minor": 2
}
