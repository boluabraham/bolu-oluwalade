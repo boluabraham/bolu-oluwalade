{
 "cells": [
  {
   "cell_type": "markdown",
   "metadata": {},
   "source": [
    "# \"Week 1 (5/4 - 5/8): Introductions to GSoC and LibreHealth\"\n",
    "\n",
    "- toc: false\n",
    "- branch: master\n",
    "- badges: true\n",
    "- comments: true\n",
    "- image: my_icons/GSoC_Logo.jpg\n",
    "- hide: false\n",
    "- search_exclude: true\n",
    "- metadata_key1: metadata_value1\n",
    "- metadata_key2: metadata_value2"
   ]
  },
  {
   "cell_type": "markdown",
   "metadata": {},
   "source": [
    "![](my_icons/GSOC_Logo.jpg)"
   ]
  },
  {
   "cell_type": "markdown",
   "metadata": {},
   "source": [
    " <span style = \"color: #f5aa42; font-family: Georgia, serif; font-size: 35px;\">Project Description</span>"
   ]
  },
  {
   "cell_type": "markdown",
   "metadata": {},
   "source": [
    "<span style = \"font-family: Times New Roman, Times; font-size: 18px; line-height: 30px;\">\n",
    "My proposal to ‘create web components for FHIR resources’ was accepted for GSoC 2020. I will contribute to the development of\n",
    "    the LibreHealth EHR, an open-source EHR maintained by <a href =\"https://librehealth.io\">LibreHealth</a>.\n",
    "</span>"
   ]
  },
  {
   "cell_type": "markdown",
   "metadata": {},
   "source": [
    "<span style = \"color: #f5aa42; font-family: Georgia, serif;font-size: 25px\">Librehealth</span>"
   ]
  },
  {
   "cell_type": "markdown",
   "metadata": {},
   "source": [
    "<span style = \"font-family: Times New Roman, Times; font-size: 18px; line-height: 30px;\">\n",
    "Libreahealth is an open source community aimed at providing healthcare IT solutions. LibreHealth EHR, LibreHealth Radiology and LibreHealth Toolkit are some of the community's ongoing project. These projects provides easy to use,customizable and open source solutions in various healthcare settings.<br/>\n",
    "The libreHealth EHR <i> \"is a clinically-focused electronic health record (EHR) system designed to be both easy to use “out of the box” and also customizable for use in a variety of health care settings. It builds on the strength of the LibreHealth Toolkit, and adapts many of the proven user experiences built over many years with OpenEMR. It is designed to be a modern, easy-to-use experience for health care professionals in their daily work\"</i>. To standardise and move towards a common data model, Libreahealth is building an EHR system based on the FHIR standard.\n",
    "</span>"
   ]
  },
  {
   "cell_type": "markdown",
   "metadata": {},
   "source": [
    "<span style = \"color: #f5aa42; font-family: Georgia, serif;font-size: 25px\">FHIR and standards of Healthcare Interoperability</span>"
   ]
  },
  {
   "cell_type": "markdown",
   "metadata": {},
   "source": [
    "<span style = \"font-family: Times New Roman, Times; font-size: 18px; line-height: 30px;\">\n",
    "The HL7 has developed several standards of EHR interoperability such as the HL7 V2, V3, Reference Information Model (RIM), and the Clinical Document Architecture (CDA). These standards are widely used in EHR systems. Most recently, the HL7  developed a new standard called the Fast Healthcare Interoperability Resources (FHIR) based on the RESTful API. FHIR is built on a set of components called Resources, which combines the best features of the CDA, HL7 v2, and HL7 v3. A resource can be used to store and exchange healthcare data over an HTTP endpoint using GET/POST request. This makes data exchange seamless and lightweight compared to the previous standards.  \n",
    "</span>"
   ]
  },
  {
   "cell_type": "markdown",
   "metadata": {},
   "source": [
    "<span style = \"color: #f5aa42; font-family: Georgia, serif; font-size: 25px\">Project Aim</span>"
   ]
  },
  {
   "cell_type": "markdown",
   "metadata": {},
   "source": [
    "<span style = \"font-family: Times New Roman, Times; font-size: 18px; line-height: 30px;\">\n",
    "I am quite familiar and understand the challenges of establishing interoperability in the Electronic Health Record System and the solutions provided by the FHIR standard. This project presents me with an opportunity to contribute significantly to the development of an EHR system that supports FHIR Standards thereby promoting the interoperability of healthcare data.\n",
    "This project aims to build web components for the LibreHealth EHR based on the FHIR resources using the <a href = \"https://polymer-library.polymer-project.org/\">Polymer library</a>. This project will be restricted to the Observation, Medication, MedicationStatement and MedicationRequest FHIR resources. These resources have a maturity level of level 3 and above. <br/>The Polymer library is used to create web components using HTML imports, HTML Template, Shadow DOM, and custom elements. The created web components in this project can be implemented in other EHR systems. The figure below shows the architecture of a typical web component.\n",
    "</span>"
   ]
  },
  {
   "attachments": {},
   "cell_type": "markdown",
   "metadata": {},
   "source": [
    "![](my_icons/web_component_architecture.PNG)"
   ]
  },
  {
   "cell_type": "markdown",
   "metadata": {},
   "source": [
    "<span style = \"font-family: Times New Roman, Times; font-size: 18px; line-height: 30px;\">\n",
    "In addition, the created web components are integrated into the LibreHealth Toolkit and assembled to form a progressive web application. This is a continuation of the Librehealth Toolkit project from a previous GSoC <a href =\"https://medium.com/my-gsoc-diary/gsoc-2018-final-submission-report-4e7e18c5a73previous\">project</a>.\n",
    "</span>"
   ]
  },
  {
   "cell_type": "markdown",
   "metadata": {},
   "source": [
    "<span style = \"font-family: Times New Roman, Times; font-size: 18px; line-height: 30px;\">\n",
    "The opening weeks (before June 1st) are decdicated to community bonding  where I will get to know more about the LibreHealth community.I will also familiarise myself with the FHIR resources of interest, breakdown the resurces into simpler parts for ease of development. I will finally develop mockups for these components.\n",
    "</span>"
   ]
  }
 ],
 "metadata": {
  "kernelspec": {
   "display_name": "Python 2",
   "language": "python",
   "name": "python2"
  },
  "language_info": {
   "codemirror_mode": {
    "name": "ipython",
    "version": 2
   },
   "file_extension": ".py",
   "mimetype": "text/x-python",
   "name": "python",
   "nbconvert_exporter": "python",
   "pygments_lexer": "ipython2",
   "version": "2.7.16"
  }
 },
 "nbformat": 4,
 "nbformat_minor": 2
}
