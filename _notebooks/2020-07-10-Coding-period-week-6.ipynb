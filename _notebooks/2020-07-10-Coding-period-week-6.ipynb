{
 "cells": [
  {
   "cell_type": "markdown",
   "metadata": {},
   "source": [
    "# \"Week 10:Coding Period (Week 6) \"\n",
    "\n",
    "- toc: false\n",
    "- branch: master\n",
    "- badges: true\n",
    "- comments: true\n",
    "- image: my_icons/GSoC_Logo.jpg\n",
    "- hide: false\n",
    "- search_exclude: true\n",
    "- metadata_key1: metadata_value1\n",
    "- metadata_key2: metadata_value2"
   ]
  },
  {
   "cell_type": "markdown",
   "metadata": {},
   "source": [
    "<span style = \"color: #f5aa42; font-family: Georgia, serif;font-size: 25px\">Updates</span>"
   ]
  },
  {
   "cell_type": "markdown",
   "metadata": {},
   "source": [
    "<span style = \"font-family: Times New Roman, Times; font-size: 18px; line-height: 30px;\">\n",
    "I rounded up the creation of the custom elements for the FHIR observation resource this week by creating custom elements.\n",
    "I decided to bring together custom elements for most of the observation resources I have created so far. Because there are various categories of observations ranging from vital signs to labs and different use of observation resource from a physician making an observation in an observation note, to a record of vital signs and to the ordering and reporting of labs. I think the components would have a wide range of use. Below is a snippet of some of the components.\n",
    "</span>"
   ]
  },
  {
   "attachments": {},
   "cell_type": "markdown",
   "metadata": {},
   "source": [
    "![](my_icons/obs.PNG)"
   ]
  },
  {
   "cell_type": "markdown",
   "metadata": {},
   "source": [
    "<span style = \"font-family: Times New Roman, Times; font-size: 18px; line-height: 30px;\">\n",
    "While a majority of the components have input fields in form of textboxes and drop down menus, I felt that the reference range component should use a span tag. This is because, it would be rather unusual to have a physician/radiologist/lab technician inputting the reference range of an observation. It seems like its general practice that those values are displayed based on the age and population the patient belongs.\n",
    "</span>"
   ]
  },
  {
   "cell_type": "markdown",
   "metadata": {},
   "source": [
    "<span style = \"font-family: Times New Roman, Times; font-size: 18px; line-height: 30px;\">\n",
    "I ran into some challenges while implementing some of the created components within other components. While these components works as expected while implemented alone, there seems to be some data binding problems when used with other components. This is as a result of the attribute/property relationship in LitElement. I am currently reading on how to solve this and hopefully come up with a solution over the weekend\n",
    "</span>"
   ]
  },
  {
   "cell_type": "markdown",
   "metadata": {},
   "source": [
    "<span style =\"font-family: Times New Roman, Times; font-size: 18px; line-height:30px\">\n",
    "I will start working on the creating custom elements for medication resources next week</span>"
   ]
  }
 ],
 "metadata": {
  "kernelspec": {
   "display_name": "Python 3",
   "language": "python",
   "name": "python3"
  },
  "language_info": {
   "codemirror_mode": {
    "name": "ipython",
    "version": 3
   },
   "file_extension": ".py",
   "mimetype": "text/x-python",
   "name": "python",
   "nbconvert_exporter": "python",
   "pygments_lexer": "ipython3",
   "version": "3.7.3"
  }
 },
 "nbformat": 4,
 "nbformat_minor": 2
}
