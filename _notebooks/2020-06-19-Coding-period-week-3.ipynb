{
 "cells": [
  {
   "cell_type": "markdown",
   "metadata": {},
   "source": [
    "# \"Week 7:Coding Period (Week 3) \"\n",
    "\n",
    "- toc: false\n",
    "- branch: master\n",
    "- badges: true\n",
    "- comments: true\n",
    "- image: my_icons/GSoC_Logo.jpg\n",
    "- hide: false\n",
    "- search_exclude: true\n",
    "- metadata_key1: metadata_value1\n",
    "- metadata_key2: metadata_value2"
   ]
  },
  {
   "cell_type": "markdown",
   "metadata": {},
   "source": [
    "<span style = \"color: #f5aa42; font-family: Georgia, serif;font-size: 25px\">Creating custom elements for the FHIR Observation resource</span>"
   ]
  },
  {
   "cell_type": "markdown",
   "metadata": {},
   "source": [
    "<span style = \"font-family: Times New Roman, Times; font-size: 18px; line-height: 30px;\">\n",
    "I created four custom elements this week, including fhir-observation-effectivedatetime, fhir-observation-category,fhir-observation-issued and fhir-observation-valuequantity. fhir-observation-effectivedatetime adds data and time an observation was made to the page. fhir-observation-category specifies the category of an observation ranging from laboratory to imaging. There are a total of 8 observation categories. The fhir-observation-issed is the datetime an observation was made available to providers, typically after the results have been reviewed and verified. fhir-observation-valuequantity adds the actual value of an observation to a page.</span>"
   ]
  },
  {
   "cell_type": "markdown",
   "metadata": {},
   "source": [
    "<span style = \"font-family: Times New Roman, Times; font-size: 18px; line-height: 30px;\">\n",
    "The figure below shows an implementation of the fhir-observation-valuequantity. In this component, the value of an observation can be added to the page by passing the value html attribute or a url. The value is a JSON object that contains the actual value of the observation, the unit of measurement, the measurement system and code. All these object fields are passed to the element but only the value and the units are displayed by default. The observation value can also be added to the page through a URL. When the url value is passed, the element makes an AJAX call and populates the appropriate textfield based on the JSON object returned.\n",
    "</span>"
   ]
  },
  {
   "attachments": {},
   "cell_type": "markdown",
   "metadata": {},
   "source": [
    "![](my_icons/valuequantity3.PNG)"
   ]
  },
  {
   "cell_type": "markdown",
   "metadata": {},
   "source": [
    "<span style =\"font-family: Times New Roman, Times; font-size: 18px; line-height:30px\">\n",
    " The figure below shows the code behind the figure above.\n",
    "</span>"
   ]
  },
  {
   "attachments": {},
   "cell_type": "markdown",
   "metadata": {},
   "source": [
    "![](my_icons/valuequantity2.PNG)"
   ]
  },
  {
   "cell_type": "markdown",
   "metadata": {},
   "source": [
    "<span style =\"font-family: Times New Roman, Times; font-size: 18px; line-height: 30px\">\n",
    "More components will be created next week and I will also start the unit testing of all the elements.\n",
    "</span>"
   ]
  }
 ],
 "metadata": {
  "kernelspec": {
   "display_name": "Python 2",
   "language": "python",
   "name": "python2"
  },
  "language_info": {
   "codemirror_mode": {
    "name": "ipython",
    "version": 2
   },
   "file_extension": ".py",
   "mimetype": "text/x-python",
   "name": "python",
   "nbconvert_exporter": "python",
   "pygments_lexer": "ipython2",
   "version": "2.7.16"
  }
 },
 "nbformat": 4,
 "nbformat_minor": 2
}
