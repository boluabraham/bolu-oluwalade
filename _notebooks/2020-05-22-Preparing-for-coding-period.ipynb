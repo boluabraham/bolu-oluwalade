{
 "cells": [
  {
   "cell_type": "markdown",
   "metadata": {},
   "source": [
    "# \"Week 2 & 3: Preparation for Coding Period\"\n",
    "\n",
    "- toc: false\n",
    "- branch: master\n",
    "- badges: true\n",
    "- comments: true\n",
    "- image: my_icons/GSoC_Logo.jpg\n",
    "- hide: false\n",
    "- search_exclude: true\n",
    "- metadata_key1: metadata_value1\n",
    "- metadata_key2: metadata_value2"
   ]
  },
  {
   "cell_type": "markdown",
   "metadata": {},
   "source": [
    "![](my_icons/GSoC_Logo.jpg)"
   ]
  },
  {
   "cell_type": "markdown",
   "metadata": {},
   "source": [
    "<span style = \"color: #f5aa42; font-family: Georgia, serif;font-size: 25px\">Creation of Mockups for the resources</span>"
   ]
  },
  {
   "cell_type": "markdown",
   "metadata": {},
   "source": [
    "<span style = \"font-family: Times New Roman, Times; font-size: 18px; line-height: 30px;\">\n",
    "During the week 2 and 3 periods, the community bonding continued and I started preparing for the start of the coding period  scheduled for June 1st. During this period, I communicated with my mentors using the libreHealth forums and groups, I read about the projects of others in the community and asked questions, when appropriate.<br> To familiarise myself with the FHIR components, I explored the FHIR specification documentations and created mockups for the components of interest which are Observation, Medication, MedicationRequest and MedicationStatement. I borke down the resources into smaller parts thus reducing the complexity of creating the components. <br>Below is a mockup created for the Medication resource with the Balsamiq wireframe.</span>"
   ]
  },
  {
   "attachments": {},
   "cell_type": "markdown",
   "metadata": {},
   "source": [
    "![](my_icons/medication_wireframe.PNG)"
   ]
  },
  {
   "cell_type": "markdown",
   "metadata": {},
   "source": [
    "<span style = \"font-family: Times New Roman, Times; font-size: 18px; line-height: 30px\">\n",
    "The Medication resource above can be broken down into parts such as the medication status, medication form, medication amount, medication item etc. These parts when aggregated forms the whole resource. These parts are reusble and can have multiple implementations while still maintaining its core properties. This is made posible through the encapsulation provided Shadow-DOM of the components. Below are  the morkups of the parts of the Medication resource.\n",
    "</span>"
   ]
  },
  {
   "attachments": {},
   "cell_type": "markdown",
   "metadata": {},
   "source": [
    "![](my_icons/medication_parts.PNG)"
   ]
  },
  {
   "cell_type": "markdown",
   "metadata": {},
   "source": [
    "<span style = \"font-family: Times New Roman, Times; font-size:18px; line-height: 30px\">\n",
    "This process was repeated for the other resources.<br> \n",
    "    </span>"
   ]
  },
  {
   "cell_type": "markdown",
   "metadata": {},
   "source": [
    "<span style = \"color: #f5aa42; font-family: Georgia, serif;font-size: 25px\">Polymer and PWA</span>"
   ]
  },
  {
   "cell_type": "markdown",
   "metadata": {},
   "source": [
    "<span style = \"font-family: Times New Roman, Times; font-size: 18px; line-height: 30px;\">\n",
    "Also during this period, I began  to learn and practice more on the use of the polymer 3 library to create web components. There are several resources available on the web that answered most of my questions. I also read about the PWA starter kit that helps to implement a progressive web app based on polymer elements. <br> In addition, I cloned the github repo containing the PWA created with the 2018 Librehealth GSoC <a href = \"https://gitlab.com/parumenon.pm/lh-toolkit-app\">project</a>. I implemented the PWA locally and navigated through it with the aim of getting a better understanding of its functionalities.\n",
    "</span>"
   ]
  }
 ],
 "metadata": {
  "kernelspec": {
   "display_name": "Python 2",
   "language": "python",
   "name": "python2"
  },
  "language_info": {
   "codemirror_mode": {
    "name": "ipython",
    "version": 2
   },
   "file_extension": ".py",
   "mimetype": "text/x-python",
   "name": "python",
   "nbconvert_exporter": "python",
   "pygments_lexer": "ipython2",
   "version": "2.7.16"
  }
 },
 "nbformat": 4,
 "nbformat_minor": 2
}
