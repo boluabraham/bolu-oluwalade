{
 "cells": [
  {
   "cell_type": "markdown",
   "metadata": {},
   "source": [
    "# \"Week 9:Coding Period (Week 5) \"\n",
    "\n",
    "- toc: false\n",
    "- branch: master\n",
    "- badges: true\n",
    "- comments: true\n",
    "- image: my_icons/GSoC_Logo.jpg\n",
    "- hide: false\n",
    "- search_exclude: true\n",
    "- metadata_key1: metadata_value1\n",
    "- metadata_key2: metadata_value2"
   ]
  },
  {
   "cell_type": "markdown",
   "metadata": {},
   "source": [
    "<span style = \"color: #f5aa42; font-family: Georgia, serif;font-size: 25px\">Updates</span>"
   ]
  },
  {
   "cell_type": "markdown",
   "metadata": {},
   "source": [
    "<span style = \"font-family: Times New Roman, Times; font-size: 18px; line-height: 30px;\">\n",
    "Today, I received my first evaluation result from my mentor and I passed!. I also got pointers to areas for improvement. The prominent area was my communication with the group. I was advised to be more open with my work to the other group memebers. I am going to consciously work on that moving forward. The next month is shaping up to be the most crucial  yet for the project, all hands must be on deck.</span>"
   ]
  },
  {
   "cell_type": "markdown",
   "metadata": {},
   "source": [
    "<span style = \"font-family: Times New Roman, Times; font-size: 18px; line-height: 30px;\">\n",
    "    <b><i>Coding update:</i></b> This week, I created three new components for the FHIR Observation Resources which are; fhir-observation-mwethod, fhir-obsevation-interpretation and fhir-observation-valuestring. These components can are based on the observation method, interpretation and valueString. The first two are Codable concept types which has a code, system and display fields as values in a key:value structure. The keys are 'method' and 'interpretation' respectively. The observation valuestring's value is a string type in a key:value structure. Please check out the documentation. <a href=\"http://hl7.org/fhir/observation.html\">here</a><br> I also created unit tests and the README documents for the custom elements. \n",
    "</span>"
   ]
  },
  {
   "cell_type": "markdown",
   "metadata": {},
   "source": [
    "<span style = \"font-family: Times New Roman, Times; font-size: 18px; line-height: 30px;\">\n",
    "In additon, this week, I removed the material-components-web-components as a submodule from the Librehealth's lh-toolkit-webcomponents monorepo. The submodule was a stop gap pending the time that the material-components are stable. It is now stable. It has a current version of 0.18.0 which was released this week after I made the Merge Request containing v0.15.0 Material Components. I might have to update it later in the project or not. I will decide that later.\n",
    "</span>"
   ]
  },
  {
   "cell_type": "markdown",
   "metadata": {},
   "source": [
    "<span style = \"font-family: Times New Roman, Times; font-size: 18px; line-height: 30px;\">\n",
    "My plan for the coming week is to complete the creation of all the remaining custom elements for the FHIR Observation resource. I will then move on to Medication Resource in the subsequent weeks.\n",
    "</span>"
   ]
  },
  {
   "cell_type": "markdown",
   "metadata": {},
   "source": [
    "<span style =\"font-family: Times New Roman, Times; font-size: 18px; line-height:30px\">\n",
    " Happy 4th of July!!!\n",
    "</span>"
   ]
  }
 ],
 "metadata": {
  "kernelspec": {
   "display_name": "Python 2",
   "language": "python",
   "name": "python2"
  },
  "language_info": {
   "codemirror_mode": {
    "name": "ipython",
    "version": 2
   },
   "file_extension": ".py",
   "mimetype": "text/x-python",
   "name": "python",
   "nbconvert_exporter": "python",
   "pygments_lexer": "ipython2",
   "version": "2.7.16"
  }
 },
 "nbformat": 4,
 "nbformat_minor": 2
}
