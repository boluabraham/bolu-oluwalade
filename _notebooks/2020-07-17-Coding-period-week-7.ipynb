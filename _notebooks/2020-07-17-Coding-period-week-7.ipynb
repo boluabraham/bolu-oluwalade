{
 "cells": [
  {
   "cell_type": "markdown",
   "metadata": {},
   "source": [
    "# \"Week 10:Coding Period (Week 6) \"\n",
    "\n",
    "- toc: false\n",
    "- branch: master\n",
    "- badges: true\n",
    "- comments: true\n",
    "- image: my_icons/GSoC_Logo.jpg\n",
    "- hide: false\n",
    "- search_exclude: true\n",
    "- metadata_key1: metadata_value1\n",
    "- metadata_key2: metadata_value2"
   ]
  },
  {
   "cell_type": "markdown",
   "metadata": {},
   "source": [
    "<span style = \"color: #f5aa42; font-family: Georgia, serif;font-size: 25px\">Quick Update</span>"
   ]
  },
  {
   "cell_type": "markdown",
   "metadata": {},
   "source": [
    "<span style = \"font-family: Times New Roman, Times; font-size: 18px; line-height: 30px;\">\n",
    "I adjusted my plans slightly for this week to increase efficiency. In the past couple of weeks, I have focused my efforts on creating at least three components per week accompanied with unit test and documentations. While this was okay, I decided this week to focus my efforts on creating the components without the writing unit tests and documentations. As a result, I was able to create 14 components for FHIR Medication, Medication statement and ratio data type. I tested the properties of the components created by passing the appropriate JSON/string and url in the value and URL properties respectively.All the components worked as intended. The components are available in a forked repo <a href =\"https://gitlab.com/boluabraham/lh-toolkit-webcomponents/-/tree/master/packages\">here</a>\n",
    "</span>"
   ]
  },
  {
   "cell_type": "markdown",
   "metadata": {},
   "source": [
    "<span style = \"font-family: Times New Roman, Times; font-size: 18px; line-height: 30px;\">\n",
    "Next week, I plan to write the unit tests, refine the codes if needed, write documentations for the components and make MRs to the main repo.\n",
    "</span>"
   ]
  }
 ],
 "metadata": {
  "kernelspec": {
   "display_name": "Python 3",
   "language": "python",
   "name": "python3"
  },
  "language_info": {
   "codemirror_mode": {
    "name": "ipython",
    "version": 3
   },
   "file_extension": ".py",
   "mimetype": "text/x-python",
   "name": "python",
   "nbconvert_exporter": "python",
   "pygments_lexer": "ipython3",
   "version": "3.7.3"
  }
 },
 "nbformat": 4,
 "nbformat_minor": 2
}
