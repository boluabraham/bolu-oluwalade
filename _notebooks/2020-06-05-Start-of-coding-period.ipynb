{
 "cells": [
  {
   "cell_type": "markdown",
   "metadata": {},
   "source": [
    "# \"Week 5: Start of coding period\"\n",
    "\n",
    "- toc: false\n",
    "- branch: master\n",
    "- badges: true\n",
    "- comments: true\n",
    "- image: my_icons\n",
    "- hide: false\n",
    "- search_exclude: true\n",
    "- matadata_key1: metadata_value1\n",
    "- metadata_key2: matadata_value2"
   ]
  },
  {
   "cell_type": "markdown",
   "metadata": {},
   "source": [
    "<h1 style = \"color: #f5aa42; font-family: Georgia, serif;font-size: 25px\">Start of the previous components upgrade</h1>"
   ]
  },
  {
   "cell_type": "markdown",
   "metadata": {},
   "source": [
    "<span style = \"font-family: Times New Roman, Times; font-size: 18px; line-height: 30px;\">\n",
    "This week was the start of the coding period. The initial plan was to start with the development of the components with the fhir-observation-status, fhir-observation-category and fhir-observation-period earmarked for development. On speaking with my mentor, we decided to first upgrade the previously developed components from @polymer/lit-element version 0.5.1 to the more efficient and light weight lit-element v2.3.1\n",
    "</span>"
   ]
  },
  {
   "cell_type": "markdown",
   "metadata": {},
   "source": [
    "<span style = \"font-family: Times New Roman, Times; font-size: 18px; line-height: 30px;\">\n",
    "One thing that became apparent in this process is the differences in syntaxes and methods between the versions. A snipet of one of the element written in @polymer/lit-element version 0.5.1 is seen below\n",
    "</span>"
   ]
  },
  {
   "attachments": {},
   "cell_type": "markdown",
   "metadata": {},
   "source": [
    "![](my_icons/previous_version.PNG)"
   ]
  },
  {
   "cell_type": "markdown",
   "metadata": {},
   "source": [
    "<span style = \"font-family: Times New Roman, Times; font-size: 18px; line-height: 30px;\">\n",
    "Condisering the image above, in the lit-element v2.3.1, the _render() and _didRender() functions have been replaced with render() and updated() functions respectively. The syntex for setting the properties, events and attributes have also changed. Check out <a href =\"https://lit-element.polymer-project.org/guide\">Lit-element</a> for the documentation\n",
    "</span>"
   ]
  },
  {
   "cell_type": "markdown",
   "metadata": {},
   "source": [
    "<span style = \"font-family: Times New Roman, Times; font-size: 18px; line-height: 30px;\">\n",
    "I have started the process of upgrading these components and should be completed and before the June 15 deadline. I will send a Merge Request once the upgrade is completed. This primarily is the task for the next week coding period.\n",
    "</span>"
   ]
  }
 ],
 "metadata": {
  "kernelspec": {
   "display_name": "R",
   "language": "R",
   "name": "ir"
  },
  "language_info": {
   "codemirror_mode": "r",
   "file_extension": ".r",
   "mimetype": "text/x-r-source",
   "name": "R",
   "pygments_lexer": "r",
   "version": "3.6.1"
  }
 },
 "nbformat": 4,
 "nbformat_minor": 2
}
