{
 "cells": [
  {
   "cell_type": "markdown",
   "metadata": {},
   "source": [
    "# \"Week 6:Coding Period (Week 2) \"\n",
    "\n",
    "- toc: false\n",
    "- branch: master\n",
    "- badges: true\n",
    "- comments: true\n",
    "- image: my_icons/GSoC_Logo.jpg\n",
    "- hide: false\n",
    "- search_exclude: true\n",
    "- metadata_key1: metadata_value1\n",
    "- metadata_key2: metadata_value2"
   ]
  },
  {
   "cell_type": "markdown",
   "metadata": {},
   "source": [
    "<span style = \"color: #f5aa42; font-family: Georgia, serif;font-size: 25px\">Upgrading custom elements from lit-element version 0.5.1 to 2.3.1</span>"
   ]
  },
  {
   "cell_type": "markdown",
   "metadata": {},
   "source": [
    "<span style = \"font-family: Times New Roman, Times; font-size: 18px; line-height: 30px;\">\n",
    "The current repository consists of 42 custom elements, all of which were created using the lit-element v0.5.1. This week's tasks involved the upgrade of all these elements to the latest version of the lit-element. There are several advantages of version 2.3.1</span>"
   ]
  },
  {
   "cell_type": "markdown",
   "metadata": {},
   "source": [
    "<span style =\"font-family: Times New Roman, Times; font-size: 18px; line-height:30px\"><ul><li>its a faster and lightweight web components  and can be implemented with any framework</li><li>it has a smother navigation of its shadowDOM </li><li>Asynchronous update when properties change </li><li>It can be created using either JavaScipt or TypeScript etc.</li></ul>\n",
    "</span>"
   ]
  },
  {
   "cell_type": "markdown",
   "metadata": {},
   "source": [
    "<span style =\"font-family: Times New Roman, Times; font-size: 18px; line-height: 30px\">\n",
    "The upgrade involves some minor changes to the methods, events and data binding syntaxes. In addition to the version upgrade, I also migrated some of the native html tags to material web components. An example of such is the replacement of  the \"select\" tag <a href =\"https://www.npmjs.com/package/@material/mwc-select\">mwc-select</a> tag. This improved the user interface of the components.\n",
    "</span>"
   ]
  },
  {
   "cell_type": "markdown",
   "metadata": {},
   "source": [
    "<span style =\"font-family: Times New Roman, Times; font-size: 18px; line-height: 30px\">\n",
    "Below is the fhir-active status (created with lit-element v0.5.1) that shows the active status of a person. The documentation is available <a href =\"https://gitlab.com/librehealth/toolkit/lh-toolkit-webcomponents/-/blob/master/packages/fhir-active-status/README.md\">here</a>\n",
    "</span>"
   ]
  },
  {
   "attachments": {},
   "cell_type": "markdown",
   "metadata": {},
   "source": [
    "![](my_icons/fhir_active_status_older_version.PNG)"
   ]
  },
  {
   "cell_type": "markdown",
   "metadata": {},
   "source": [
    "<span style =\"font-family: Times New Roman, Times; font-size: 18px; line-height: 30px\">\n",
    "The figure below shows the changes in syntax for creating and binding properties to the shadow DOM. The _didRender() function was also replaced with updated(). A full documentation of lit-element is available <a href =\"https://lit-element.polymer-project.org/guide\">here</a>\n",
    "</span>"
   ]
  },
  {
   "attachments": {},
   "cell_type": "markdown",
   "metadata": {},
   "source": [
    "![](my_icons/fhir_active_status.PNG)"
   ]
  },
  {
   "cell_type": "markdown",
   "metadata": {},
   "source": [
    "<span style = \"font-family: Times New Roman, Times; font-size:18px; line-height: 30px\">\n",
    "Next week's task: I will create three new custom elements for the \"Observation\" resource </span>"
   ]
  }
 ],
 "metadata": {
  "kernelspec": {
   "display_name": "Python 2",
   "language": "python",
   "name": "python2"
  },
  "language_info": {
   "codemirror_mode": {
    "name": "ipython",
    "version": 2
   },
   "file_extension": ".py",
   "mimetype": "text/x-python",
   "name": "python",
   "nbconvert_exporter": "python",
   "pygments_lexer": "ipython2",
   "version": "2.7.16"
  }
 },
 "nbformat": 4,
 "nbformat_minor": 2
}
